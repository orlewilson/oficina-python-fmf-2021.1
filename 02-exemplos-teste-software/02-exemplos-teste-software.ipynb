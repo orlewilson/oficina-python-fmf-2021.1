{
 "cells": [
  {
   "cell_type": "markdown",
   "id": "usual-force",
   "metadata": {},
   "source": [
    "### Python: Por Onde Começar e Quais Suas Aplicações?\n",
    "\n",
    "**Cursos de Capacitação - Faculdade Martha Falcão 2021.1** <br>\n",
    "**Facilitador**: Orlewilson Bentes Maia <br>\n",
    "**Data**: 18/02/2021 <br>\n",
    "https://orlewilson.github.io/\n"
   ]
  },
  {
   "cell_type": "markdown",
   "id": "noble-librarian",
   "metadata": {},
   "source": [
    "### Exemplo 01 - exemplo de teste em python usando UnitTest\n",
    "**Fonte**: \n",
    "- https://python-guide-pt-br.readthedocs.io/pt_BR/latest/writing/tests.html"
   ]
  },
  {
   "cell_type": "code",
   "execution_count": null,
   "id": "common-mambo",
   "metadata": {},
   "outputs": [],
   "source": [
    "import unittest\n",
    "\n",
    "def quadrado(x):\n",
    "    return x**2\n",
    "\n",
    "class MyTest(unittest.TestCase):\n",
    "    def test1(self):\n",
    "        self.assertEqual(quadrado(3), 9)\n",
    "\n",
    "    def test2(self):\n",
    "        self.assertEqual(quadrado(-2), 4)\n",
    "\n",
    "    def test3(self):\n",
    "        self.assertEqual(quadrado(5), 25)\n",
    "\n",
    "# executar dentro do Jupyter\n",
    "#if __name__ == '__main__':\n",
    "#    unittest.main(argv=['first-arg-is-ignored'], exit=False)\n",
    "\n",
    "# executar fora do Jupyter\n",
    "#if __name__ == '__main__':\n",
    "#    unittest.main()\n",
    "\n",
    "# execução do código\n",
    "# python ex-unit-test.py -v\n",
    "\n"
   ]
  },
  {
   "cell_type": "markdown",
   "id": "unable-dayton",
   "metadata": {},
   "source": [
    "### Exemplo 02 - exemplo de teste em python usando Selenium\n",
    "**Fonte**: \n",
    "- https://selenium-python.readthedocs.io/getting-started.html\n",
    "- https://chromedriver.chromium.org/downloads\n",
    "- https://github.com/mozilla/geckodriver/releases/"
   ]
  },
  {
   "cell_type": "code",
   "execution_count": null,
   "id": "affected-pursuit",
   "metadata": {},
   "outputs": [],
   "source": [
    "import unittest\n",
    "from selenium import webdriver\n",
    "from selenium.webdriver.common.keys import Keys\n",
    "\n",
    "class PythonOrgSearch(unittest.TestCase):\n",
    "\n",
    "    # seleciona o navegador\n",
    "    def setUp(self):\n",
    "        self.driver = webdriver.Chrome() # chome\n",
    "\n",
    "    # caso de teste\n",
    "    def test_search_in_python_org(self):\n",
    "        driver = self.driver\n",
    "        driver.get(\"http://www.python.org\")\n",
    "        # verifica se há a palavra Python no título da página\n",
    "        self.assertIn(\"Python\", driver.title)\n",
    "\n",
    "    # fecha o navegador\n",
    "    def tearDown(self):\n",
    "        self.driver.close()\n",
    "    \n",
    "# executar dentro do Jupyter\n",
    "if __name__ == '__main__':\n",
    "    unittest.main(argv=['first-arg-is-ignored'], exit=False)\n",
    "\n",
    "# executar fora do Jupyter\n",
    "#if __name__ == '__main__':\n",
    "#    unittest.main()\n",
    "\n",
    "# execução do código\n",
    "# python ex-selenium.py -v"
   ]
  }
 ],
 "metadata": {
  "kernelspec": {
   "display_name": "Python 3",
   "language": "python",
   "name": "python3"
  },
  "language_info": {
   "codemirror_mode": {
    "name": "ipython",
    "version": 3
   },
   "file_extension": ".py",
   "mimetype": "text/x-python",
   "name": "python",
   "nbconvert_exporter": "python",
   "pygments_lexer": "ipython3",
   "version": "3.9.1"
  }
 },
 "nbformat": 4,
 "nbformat_minor": 5
}
