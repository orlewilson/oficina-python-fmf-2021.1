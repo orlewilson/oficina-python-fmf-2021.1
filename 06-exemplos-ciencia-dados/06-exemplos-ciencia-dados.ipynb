{
 "cells": [
  {
   "cell_type": "markdown",
   "id": "usual-force",
   "metadata": {},
   "source": [
    "### Python: Por Onde Começar e Quais Suas Aplicações?\n",
    "\n",
    "**Cursos de Capacitação - Faculdade Martha Falcão 2021.1** <br>\n",
    "**Facilitador**: Orlewilson Bentes Maia <br>\n",
    "**Data**: 18/02/2021 <br>\n",
    "https://orlewilson.github.io/\n"
   ]
  },
  {
   "cell_type": "markdown",
   "id": "noble-librarian",
   "metadata": {},
   "source": [
    "### Exemplo 01 - Pandas - usando variável do tipo Series"
   ]
  },
  {
   "cell_type": "code",
   "execution_count": 1,
   "id": "common-mambo",
   "metadata": {},
   "outputs": [],
   "source": [
    "import pandas as pd\n",
    "import numpy as np\n",
    "import matplotlib.pyplot as plt"
   ]
  },
  {
   "cell_type": "code",
   "execution_count": 2,
   "id": "detected-martial",
   "metadata": {},
   "outputs": [],
   "source": [
    "# criação\n",
    "notas = pd.Series([2,7,5,10,6])"
   ]
  },
  {
   "cell_type": "code",
   "execution_count": 3,
   "id": "limiting-credit",
   "metadata": {},
   "outputs": [
    {
     "name": "stdout",
     "output_type": "stream",
     "text": [
      "0     2\n",
      "1     7\n",
      "2     5\n",
      "3    10\n",
      "4     6\n",
      "dtype: int64\n"
     ]
    }
   ],
   "source": [
    "# manipulação\n",
    "print(notas)"
   ]
  },
  {
   "cell_type": "code",
   "execution_count": 4,
   "id": "institutional-darwin",
   "metadata": {},
   "outputs": [
    {
     "name": "stdout",
     "output_type": "stream",
     "text": [
      "[ 2  7  5 10  6]\n",
      "RangeIndex(start=0, stop=5, step=1)\n"
     ]
    }
   ],
   "source": [
    "print(notas.values)\n",
    "\n",
    "print(notas.index)"
   ]
  },
  {
   "cell_type": "code",
   "execution_count": 5,
   "id": "controlling-monkey",
   "metadata": {},
   "outputs": [
    {
     "name": "stdout",
     "output_type": "stream",
     "text": [
      "Wilson     2\n",
      "Bruno      7\n",
      "Nic       10\n",
      "Cris       5\n",
      "dtype: int64\n"
     ]
    }
   ],
   "source": [
    "notas = pd.Series([2,7,10,5], index=[\"Wilson\", \"Bruno\", \"Nic\", \"Cris\" ])\n",
    "\n",
    "print(notas)"
   ]
  },
  {
   "cell_type": "code",
   "execution_count": 6,
   "id": "peaceful-display",
   "metadata": {},
   "outputs": [
    {
     "name": "stdout",
     "output_type": "stream",
     "text": [
      "7\n"
     ]
    }
   ],
   "source": [
    "print(notas[\"Bruno\"])"
   ]
  },
  {
   "cell_type": "code",
   "execution_count": 7,
   "id": "still-stick",
   "metadata": {},
   "outputs": [
    {
     "name": "stdout",
     "output_type": "stream",
     "text": [
      "Média: 6.0\n",
      "Desvio padrão: 3.366501646120693\n"
     ]
    }
   ],
   "source": [
    "print(\"Média:\", notas.mean())\n",
    "print(\"Desvio padrão:\", notas.std())"
   ]
  },
  {
   "cell_type": "code",
   "execution_count": 8,
   "id": "accomplished-library",
   "metadata": {},
   "outputs": [
    {
     "name": "stdout",
     "output_type": "stream",
     "text": [
      "count     4.000000\n",
      "mean      6.000000\n",
      "std       3.366502\n",
      "min       2.000000\n",
      "25%       4.250000\n",
      "50%       6.000000\n",
      "75%       7.750000\n",
      "max      10.000000\n",
      "dtype: float64\n"
     ]
    }
   ],
   "source": [
    "print(notas.describe())"
   ]
  },
  {
   "cell_type": "code",
   "execution_count": 9,
   "id": "needed-abuse",
   "metadata": {},
   "outputs": [
    {
     "name": "stdout",
     "output_type": "stream",
     "text": [
      "Wilson      4\n",
      "Bruno      49\n",
      "Nic       100\n",
      "Cris       25\n",
      "dtype: int64\n"
     ]
    }
   ],
   "source": [
    "print(notas**2)"
   ]
  },
  {
   "cell_type": "code",
   "execution_count": 10,
   "id": "driven-husband",
   "metadata": {},
   "outputs": [
    {
     "name": "stdout",
     "output_type": "stream",
     "text": [
      "Wilson    0.693147\n",
      "Bruno     1.945910\n",
      "Nic       2.302585\n",
      "Cris      1.609438\n",
      "dtype: float64\n"
     ]
    }
   ],
   "source": [
    "print(np.log(notas)) # aplicando a operação matemática logarítmo nos dados numéricos"
   ]
  },
  {
   "cell_type": "markdown",
   "id": "vocal-anniversary",
   "metadata": {},
   "source": [
    "### Exemplo 02 - Pandas - usando variável do tipo DataFrame"
   ]
  },
  {
   "cell_type": "code",
   "execution_count": 11,
   "id": "compatible-ensemble",
   "metadata": {},
   "outputs": [],
   "source": [
    "# criação\n",
    "\n",
    "cursoPython = pd.DataFrame({'Aluno' : [\"Wilson\", \"Bruno\", \"Nic\", \"Cris\"],\n",
    "                            'Faltas' : [1,2,0,4],\n",
    "                            'Prova' : [5,6,9,6],\n",
    "                            'Seminário': [5.3,8,7,6],\n",
    "                            'Conceito': ['A', 'A', 'B', 'B']})\n"
   ]
  },
  {
   "cell_type": "code",
   "execution_count": 12,
   "id": "stainless-female",
   "metadata": {},
   "outputs": [
    {
     "name": "stdout",
     "output_type": "stream",
     "text": [
      "    Aluno  Faltas  Prova  Seminário Conceito\n",
      "0  Wilson       1      5        5.3        A\n",
      "1   Bruno       2      6        8.0        A\n",
      "2     Nic       0      9        7.0        B\n",
      "3    Cris       4      6        6.0        B\n"
     ]
    }
   ],
   "source": [
    "# manipulação\n",
    "print(cursoPython)"
   ]
  },
  {
   "cell_type": "code",
   "execution_count": 13,
   "id": "italian-pharmacology",
   "metadata": {},
   "outputs": [
    {
     "name": "stdout",
     "output_type": "stream",
     "text": [
      "Média Faltas:  1.75\n",
      "Média Notas Prova:  6.5\n"
     ]
    }
   ],
   "source": [
    "print(\"Média Faltas: \", cursoPython[\"Faltas\"].mean())\n",
    "\n",
    "print(\"Média Notas Prova: \", cursoPython[\"Prova\"].mean())"
   ]
  },
  {
   "cell_type": "code",
   "execution_count": 14,
   "id": "angry-louis",
   "metadata": {},
   "outputs": [
    {
     "name": "stdout",
     "output_type": "stream",
     "text": [
      "         Faltas     Prova  Seminário\n",
      "count  4.000000  4.000000   4.000000\n",
      "mean   1.750000  6.500000   6.575000\n",
      "std    1.707825  1.732051   1.178629\n",
      "min    0.000000  5.000000   5.300000\n",
      "25%    0.750000  5.750000   5.825000\n",
      "50%    1.500000  6.000000   6.500000\n",
      "75%    2.500000  6.750000   7.250000\n",
      "max    4.000000  9.000000   8.000000\n"
     ]
    }
   ],
   "source": [
    "print(cursoPython.describe())"
   ]
  },
  {
   "cell_type": "code",
   "execution_count": 15,
   "id": "vital-thermal",
   "metadata": {},
   "outputs": [
    {
     "name": "stdout",
     "output_type": "stream",
     "text": [
      "    Aluno  Faltas  Prova  Seminário Conceito\n",
      "0  Wilson       1      5        5.3        A\n",
      "1   Bruno       2      6        8.0        A\n",
      "3    Cris       4      6        6.0        B\n",
      "2     Nic       0      9        7.0        B\n"
     ]
    }
   ],
   "source": [
    "print(cursoPython.sort_values(by=\"Prova\"))"
   ]
  },
  {
   "cell_type": "code",
   "execution_count": 16,
   "id": "illegal-small",
   "metadata": {},
   "outputs": [
    {
     "name": "stdout",
     "output_type": "stream",
     "text": [
      "   Aluno  Faltas  Prova  Seminário Conceito\n",
      "1  Bruno       2      6        8.0        A\n",
      "2    Nic       0      9        7.0        B\n"
     ]
    }
   ],
   "source": [
    "print(cursoPython[(cursoPython[\"Faltas\"] <= 2) & (cursoPython[\"Prova\"] >= 6)])"
   ]
  },
  {
   "cell_type": "code",
   "execution_count": 17,
   "id": "distributed-cigarette",
   "metadata": {},
   "outputs": [],
   "source": [
    "# salvar DataFrame em um arquivo CSV\n",
    "cursoPython.to_csv(\"oficina_python.csv\")"
   ]
  },
  {
   "cell_type": "markdown",
   "id": "entire-short",
   "metadata": {},
   "source": [
    "### Exemplo 03 - Pandas - leitura de arquivo .csv e visualização de dados"
   ]
  },
  {
   "cell_type": "code",
   "execution_count": 18,
   "id": "robust-powell",
   "metadata": {},
   "outputs": [],
   "source": [
    "# leitura de dados\n",
    "df = pd.read_csv(\"airbnb-nyc-2019.csv\", sep=\";\")"
   ]
  },
  {
   "cell_type": "code",
   "execution_count": 19,
   "id": "controversial-apparatus",
   "metadata": {},
   "outputs": [
    {
     "name": "stdout",
     "output_type": "stream",
     "text": [
      "      neighbourhood        room_type  price  number_of_reviews\n",
      "0          Brooklyn     Private room  149.0                9.0\n",
      "1         Manhattan  Entire home/apt  225.0               45.0\n",
      "2         Manhattan     Private room  150.0                0.0\n",
      "3          Brooklyn  Entire home/apt   89.0              270.0\n",
      "4         Manhattan  Entire home/apt   80.0                9.0\n",
      "...             ...              ...    ...                ...\n",
      "49075      Brooklyn     Private room   70.0                0.0\n",
      "49076      Brooklyn     Private room   40.0                0.0\n",
      "49077     Manhattan  Entire home/apt  115.0                0.0\n",
      "49078     Manhattan      Shared room   55.0                0.0\n",
      "49079     Manhattan     Private room   90.0                0.0\n",
      "\n",
      "[49080 rows x 4 columns]\n"
     ]
    }
   ],
   "source": [
    "# manipulação dos dados lidos\n",
    "print(df)"
   ]
  },
  {
   "cell_type": "code",
   "execution_count": 20,
   "id": "decent-method",
   "metadata": {},
   "outputs": [],
   "source": [
    "df2 = df[(df[\"price\"] >= 0)]"
   ]
  },
  {
   "cell_type": "code",
   "execution_count": 24,
   "id": "raised-packaging",
   "metadata": {},
   "outputs": [
    {
     "name": "stdout",
     "output_type": "stream",
     "text": [
      "neighbourhood\n",
      "Woodside           1.000000\n",
      "Eltingville        1.000000\n",
      "Greenpoint         1.000000\n",
      "Inwood             1.000000\n",
      "Little Neck        1.000000\n",
      "                    ...    \n",
      "Bronx             87.728704\n",
      "Queens            99.576909\n",
      "Staten Island    114.994595\n",
      "Brooklyn         124.397717\n",
      "Manhattan        196.724280\n",
      "Name: price, Length: 68, dtype: float64\n"
     ]
    }
   ],
   "source": [
    "print(df2.groupby(\"neighbourhood\").mean()[\"price\"].sort_values())"
   ]
  },
  {
   "cell_type": "code",
   "execution_count": 25,
   "id": "polyphonic-rover",
   "metadata": {},
   "outputs": [
    {
     "name": "stdout",
     "output_type": "stream",
     "text": [
      "neighbourhood\n",
      "Manhattan        196.724280\n",
      "Brooklyn         124.397717\n",
      "Staten Island    114.994595\n",
      "Queens            99.576909\n",
      "Bronx             87.728704\n",
      "Name: price, dtype: float64\n"
     ]
    }
   ],
   "source": [
    "print(df2.groupby(\"neighbourhood\").mean()[\"price\"].sort_values().nlargest(5))"
   ]
  },
  {
   "cell_type": "code",
   "execution_count": 26,
   "id": "suited-evening",
   "metadata": {},
   "outputs": [
    {
     "data": {
      "image/png": "[encoded data removed]",
      "text/plain": [
       "<Figure size 432x288 with 1 Axes>"
      ]
     },
     "metadata": {
      "needs_background": "light"
     },
     "output_type": "display_data"
    }
   ],
   "source": [
    "# visualização dos dados lidos\n",
    "df2[\"price\"].plot.hist()\n",
    "plt.show() # mostrar janela"
   ]
  },
  {
   "cell_type": "raw",
   "id": "physical-switzerland",
   "metadata": {},
   "source": [
    "df2[\"price\"].plot.hist(bins=30, edgecolor='black')\n",
    "plt.show()"
   ]
  },
  {
   "cell_type": "code",
   "execution_count": null,
   "id": "verbal-independence",
   "metadata": {},
   "outputs": [],
   "source": []
  },
  {
   "cell_type": "code",
   "execution_count": 27,
   "id": "general-invalid",
   "metadata": {},
   "outputs": [
    {
     "data": {
      "image/png": "[encoded data removed]",
      "text/plain": [
       "<Figure size 432x288 with 1 Axes>"
      ]
     },
     "metadata": {
      "needs_background": "light"
     },
     "output_type": "display_data"
    }
   ],
   "source": [
    "df2[\"neighbourhood\"].value_counts().nlargest(5).plot.bar()\n",
    "plt.show()"
   ]
  },
  {
   "cell_type": "code",
   "execution_count": 28,
   "id": "angry-empire",
   "metadata": {},
   "outputs": [
    {
     "data": {
      "image/png": "[encoded data removed]",
      "text/plain": [
       "<Figure size 432x288 with 1 Axes>"
      ]
     },
     "metadata": {
      "needs_background": "light"
     },
     "output_type": "display_data"
    }
   ],
   "source": [
    "df2[\"neighbourhood\"].value_counts().nlargest(5).plot.barh(title=\"Número de apartamentos\")\n",
    "plt.show()"
   ]
  }
 ],
 "metadata": {
  "kernelspec": {
   "display_name": "Python 3",
   "language": "python",
   "name": "python3"
  },
  "language_info": {
   "codemirror_mode": {
    "name": "ipython",
    "version": 3
   },
   "file_extension": ".py",
   "mimetype": "text/x-python",
   "name": "python",
   "nbconvert_exporter": "python",
   "pygments_lexer": "ipython3",
   "version": "3.9.1"
  }
 },
 "nbformat": 4,
 "nbformat_minor": 5
}
