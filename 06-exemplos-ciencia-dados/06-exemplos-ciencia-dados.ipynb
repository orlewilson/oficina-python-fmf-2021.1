{
 "cells": [
  {
   "cell_type": "markdown",
   "id": "usual-force",
   "metadata": {},
   "source": [
    "### Python: Por Onde Começar e Quais Suas Aplicações?\n",
    "\n",
    "**Cursos de Capacitação - Faculdade Martha Falcão 2021.1** <br>\n",
    "**Facilitador**: Orlewilson Bentes Maia <br>\n",
    "**Data**: 18/02/2021 <br>\n",
    "https://orlewilson.github.io/\n"
   ]
  },
  {
   "cell_type": "markdown",
   "id": "noble-librarian",
   "metadata": {},
   "source": [
    "### Exemplo 01 - Pandas - usando variável do tipo Series"
   ]
  },
  {
   "cell_type": "code",
   "execution_count": 24,
   "id": "common-mambo",
   "metadata": {},
   "outputs": [],
   "source": [
    "import pandas as pd\n",
    "import numpy as np\n",
    "import matplotlib.pyplot as plt"
   ]
  },
  {
   "cell_type": "code",
   "execution_count": 25,
   "id": "celtic-parent",
   "metadata": {},
   "outputs": [],
   "source": [
    "# criação\n",
    "notas = pd.Series([2,7,5,10,6])"
   ]
  },
  {
   "cell_type": "code",
   "execution_count": null,
   "id": "solved-dietary",
   "metadata": {},
   "outputs": [],
   "source": [
    "# manipulação\n",
    "print(notas)"
   ]
  },
  {
   "cell_type": "code",
   "execution_count": null,
   "id": "pretty-directory",
   "metadata": {},
   "outputs": [],
   "source": [
    "print(notas.values)\n",
    "\n",
    "print(notas.index)"
   ]
  },
  {
   "cell_type": "code",
   "execution_count": null,
   "id": "naked-standing",
   "metadata": {},
   "outputs": [],
   "source": [
    "notas = pd.Series([2,7,10,5], index=[\"Wilson\", \"Bruno\", \"Nic\", \"Cris\", ])\n",
    "\n",
    "print(notas)"
   ]
  },
  {
   "cell_type": "code",
   "execution_count": null,
   "id": "baking-lemon",
   "metadata": {},
   "outputs": [],
   "source": [
    "print(notas[\"Bruno\"])"
   ]
  },
  {
   "cell_type": "code",
   "execution_count": null,
   "id": "surprising-liquid",
   "metadata": {},
   "outputs": [],
   "source": [
    "print(\"Média:\", notas.mean())\n",
    "print(\"Desvio padrão:\", notas.std())"
   ]
  },
  {
   "cell_type": "code",
   "execution_count": null,
   "id": "introductory-mirror",
   "metadata": {},
   "outputs": [],
   "source": [
    "print(notas.describe())"
   ]
  },
  {
   "cell_type": "code",
   "execution_count": null,
   "id": "joined-danish",
   "metadata": {},
   "outputs": [],
   "source": [
    "print(notas**2)"
   ]
  },
  {
   "cell_type": "code",
   "execution_count": null,
   "id": "ahead-pittsburgh",
   "metadata": {},
   "outputs": [],
   "source": [
    "print(np.log(notas)) # aplicando a operação matemática logarítmo nos dados numéricos"
   ]
  },
  {
   "cell_type": "markdown",
   "id": "municipal-berry",
   "metadata": {},
   "source": [
    "### Exemplo 02 - Pandas - usando variável do tipo DataFrame"
   ]
  },
  {
   "cell_type": "code",
   "execution_count": 26,
   "id": "meaningful-robinson",
   "metadata": {},
   "outputs": [],
   "source": [
    "# criação\n",
    "\n",
    "cursoPython = pd.DataFrame({'Aluno' : [\"Wilson\", \"Bruno\", \"Nic\", \"Cris\"],\n",
    "                            'Faltas' : [1,2,0,4],\n",
    "                            'Prova' : [5,6,9,6],\n",
    "                            'Seminário': [5.3,8,7,6],\n",
    "                            'Conceito': ['A', 'A', 'B', 'B']})\n"
   ]
  },
  {
   "cell_type": "code",
   "execution_count": null,
   "id": "collaborative-exposure",
   "metadata": {},
   "outputs": [],
   "source": [
    "# manipulação\n",
    "print(cursoPython)"
   ]
  },
  {
   "cell_type": "code",
   "execution_count": null,
   "id": "sustained-glenn",
   "metadata": {},
   "outputs": [],
   "source": [
    "print(\"Média Faltas: \", cursoPython[\"Faltas\"].mean())\n",
    "\n",
    "print(\"Média Notas Prova: \", cursoPython[\"Prova\"].mean())"
   ]
  },
  {
   "cell_type": "code",
   "execution_count": null,
   "id": "prescription-overall",
   "metadata": {},
   "outputs": [],
   "source": [
    "print(cursoPython.describe())"
   ]
  },
  {
   "cell_type": "code",
   "execution_count": null,
   "id": "interim-talent",
   "metadata": {},
   "outputs": [],
   "source": [
    "print(cursoPython.sort_values(by=\"Prova\"))"
   ]
  },
  {
   "cell_type": "code",
   "execution_count": null,
   "id": "distinct-rocket",
   "metadata": {},
   "outputs": [],
   "source": [
    "print(cursoPython[(cursoPython[\"Faltas\"] <= 2) & (cursoPython[\"Prova\"] >= 6)])"
   ]
  },
  {
   "cell_type": "code",
   "execution_count": 23,
   "id": "substantial-hughes",
   "metadata": {},
   "outputs": [],
   "source": [
    "# salvar DataFrame em um arquivo CSV\n",
    "cursoPython.to_csv(\"oficina_python.csv\")"
   ]
  },
  {
   "cell_type": "markdown",
   "id": "wooden-charter",
   "metadata": {},
   "source": [
    "### Exemplo 03 - Pandas - leitura de arquivo .csv e visualização de dados"
   ]
  },
  {
   "cell_type": "code",
   "execution_count": 28,
   "id": "treated-warning",
   "metadata": {},
   "outputs": [],
   "source": [
    "# leitura de dados\n",
    "df = pd.read_csv(\"airbnb-nyc-2019.csv\", sep=\";\")"
   ]
  },
  {
   "cell_type": "code",
   "execution_count": 30,
   "id": "american-plasma",
   "metadata": {},
   "outputs": [
    {
     "name": "stdout",
     "output_type": "stream",
     "text": [
      "      neighbourhood        room_type  price  number_of_reviews\n",
      "0          Brooklyn     Private room  149.0                9.0\n",
      "1         Manhattan  Entire home/apt  225.0               45.0\n",
      "2         Manhattan     Private room  150.0                0.0\n",
      "3          Brooklyn  Entire home/apt   89.0              270.0\n",
      "4         Manhattan  Entire home/apt   80.0                9.0\n",
      "...             ...              ...    ...                ...\n",
      "49075      Brooklyn     Private room   70.0                0.0\n",
      "49076      Brooklyn     Private room   40.0                0.0\n",
      "49077     Manhattan  Entire home/apt  115.0                0.0\n",
      "49078     Manhattan      Shared room   55.0                0.0\n",
      "49079     Manhattan     Private room   90.0                0.0\n",
      "\n",
      "[49080 rows x 4 columns]\n"
     ]
    }
   ],
   "source": [
    "# manipulação dos dados lidos\n",
    "print(df)"
   ]
  },
  {
   "cell_type": "code",
   "execution_count": null,
   "id": "compound-clause",
   "metadata": {},
   "outputs": [],
   "source": [
    "df2 = df[(df[\"price\"] >= 0)]\n",
    "\n",
    "print(df2.groupby(\"neighbourhood\").mean()[\"price\"].sort_values())\n",
    "\n",
    "print(df2.groupby(\"neighbourhood\").mean()[\"price\"].sort_values().nlargest(5))\n",
    "\n",
    "\n",
    "# visualização dos dados lidos\n",
    "df2[\"price\"].plot.hist()\n",
    "plt.show() # mostrar janela\n",
    "\n",
    "df2[\"price\"].plot.hist(bins=30, edgecolor='black')\n",
    "plt.show()\n",
    "\n",
    "\n",
    "df2[\"neighbourhood\"].value_counts().nlargest(5).plot.bar()\n",
    "plt.show()\n",
    "\n",
    "df2[\"neighbourhood\"].value_counts().nlargest(5).plot.barh(title=\"Número de apartamentos\")\n",
    "plt.show()"
   ]
  }
 ],
 "metadata": {
  "kernelspec": {
   "display_name": "Python 3",
   "language": "python",
   "name": "python3"
  },
  "language_info": {
   "codemirror_mode": {
    "name": "ipython",
    "version": 3
   },
   "file_extension": ".py",
   "mimetype": "text/x-python",
   "name": "python",
   "nbconvert_exporter": "python",
   "pygments_lexer": "ipython3",
   "version": "3.9.1"
  }
 },
 "nbformat": 4,
 "nbformat_minor": 5
}
