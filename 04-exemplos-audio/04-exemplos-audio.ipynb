{
 "cells": [
  {
   "cell_type": "markdown",
   "id": "usual-force",
   "metadata": {},
   "source": [
    "### Python: Por Onde Começar e Quais Suas Aplicações?\n",
    "\n",
    "**Cursos de Capacitação - Faculdade Martha Falcão 2021.1** <br>\n",
    "**Facilitador**: Orlewilson Bentes Maia <br>\n",
    "**Data**: 18/02/2021 <br>\n",
    "https://orlewilson.github.io/\n"
   ]
  },
  {
   "cell_type": "markdown",
   "id": "noble-librarian",
   "metadata": {},
   "source": [
    "### Exemplo 01 - exemplo de reconhecimento de voz com python\n",
    "**Fonte**:\n",
    "- https://medium.com/brasil-ai/reconhecimento-voz-python-35a5023767ca"
   ]
  },
  {
   "cell_type": "code",
   "execution_count": null,
   "id": "common-mambo",
   "metadata": {},
   "outputs": [],
   "source": [
    "import speech_recognition as sr\n",
    "\n",
    "#Funcao responsavel por ouvir e reconhecer a fala\n",
    "def ouvir_microfone():\n",
    "    #Habilita o microfone para ouvir o usuario\n",
    "    microfone = sr.Recognizer()\n",
    "    with sr.Microphone() as source:\n",
    "        #Chama a funcao de reducao de ruido disponivel na speech_recognition\n",
    "        microfone.adjust_for_ambient_noise(source)\n",
    "        \n",
    "        #Avisa ao usuario que esta pronto para ouvir\n",
    "        print(\"Diga alguma coisa: \")\n",
    "        \n",
    "        #Armazena a informacao de audio na variavel\n",
    "        audio = microfone.listen(source)\n",
    "        \n",
    "        try:\n",
    "            #Passa o audio para o reconhecedor de padroes do speech_recognition\n",
    "            frase = microfone.recognize_google(audio,language='pt-BR')\n",
    "            #Após alguns segundos, retorna a frase falada\n",
    "            print(\"Você disse: \" + frase)\n",
    "            #Caso nao tenha reconhecido o padrao de fala, exibe esta mensagem\n",
    "        except sr.UnkownValueError:\n",
    "            print(\"Não entendi\")\n",
    "            return frase\n",
    "\n",
    "ouvir_microfone()\n",
    "\n",
    "#pip install pipwin\n",
    "#pipwin install pyaudio"
   ]
  }
 ],
 "metadata": {
  "kernelspec": {
   "display_name": "Python 3",
   "language": "python",
   "name": "python3"
  },
  "language_info": {
   "codemirror_mode": {
    "name": "ipython",
    "version": 3
   },
   "file_extension": ".py",
   "mimetype": "text/x-python",
   "name": "python",
   "nbconvert_exporter": "python",
   "pygments_lexer": "ipython3",
   "version": "3.9.1"
  }
 },
 "nbformat": 4,
 "nbformat_minor": 5
}
