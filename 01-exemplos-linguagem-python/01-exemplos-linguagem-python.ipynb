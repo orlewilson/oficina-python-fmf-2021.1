{
 "cells": [
  {
   "cell_type": "markdown",
   "id": "usual-force",
   "metadata": {},
   "source": [
    "### Python: Por Onde Começar e Quais Suas Aplicações?\n",
    "\n",
    "**Cursos de Capacitação - Faculdade Martha Falcão 2021.1** <br>\n",
    "**Facilitador**: Orlewilson Bentes Maia <br>\n",
    "**Data**: 18/02/2021 <br>\n",
    "https://orlewilson.github.io/\n"
   ]
  },
  {
   "cell_type": "markdown",
   "id": "noble-librarian",
   "metadata": {},
   "source": [
    "### Exemplo 01 - mostrar mensagem Hello World, Python no console"
   ]
  },
  {
   "cell_type": "code",
   "execution_count": null,
   "id": "common-mambo",
   "metadata": {},
   "outputs": [],
   "source": [
    "print (\"Hello World, Python!\")"
   ]
  },
  {
   "cell_type": "markdown",
   "id": "canadian-healing",
   "metadata": {},
   "source": [
    "### Exemplo 02 - Variáveis, tipos de dados, operações, estruturas, string"
   ]
  },
  {
   "cell_type": "code",
   "execution_count": null,
   "id": "dental-dispute",
   "metadata": {},
   "outputs": [],
   "source": [
    "a = 3 #número inteiro\n",
    "print(a)"
   ]
  },
  {
   "cell_type": "code",
   "execution_count": null,
   "id": "liked-clearing",
   "metadata": {},
   "outputs": [],
   "source": [
    "b = 3.3 #número decimal\n",
    "c = 4 + 5j #número complexo\n",
    "\n",
    "print(b)\n",
    "print(c)"
   ]
  },
  {
   "cell_type": "code",
   "execution_count": null,
   "id": "antique-server",
   "metadata": {},
   "outputs": [],
   "source": [
    "#operações matemáticas\n",
    "print (a + b)\n",
    "print (a - b)\n",
    "print (a / b)\n",
    "print (a * b)\n",
    "print (a ** b) # exponenciação"
   ]
  },
  {
   "cell_type": "code",
   "execution_count": null,
   "id": "vital-monday",
   "metadata": {},
   "outputs": [],
   "source": [
    "a = int(input('Digite um valor: '))\n",
    "\n",
    "# condição\n",
    "if a > 10:\n",
    "    print (f'{a} > 10')\n",
    "else:\n",
    "    print (f'{a} <= 10')"
   ]
  },
  {
   "cell_type": "code",
   "execution_count": null,
   "id": "applied-flooring",
   "metadata": {},
   "outputs": [],
   "source": [
    "# repetição\n",
    "print('repetição usando for')\n",
    "# for x = 0; x < 10; x++ \n",
    "for x in range(0,10):\n",
    "    print (x)\n",
    "\n",
    "print('repetição usando while')\n",
    "x = 0\n",
    "while (x < 10):\n",
    "    x += 1 # x = x + 1\n",
    "    print(x)\n"
   ]
  },
  {
   "cell_type": "code",
   "execution_count": null,
   "id": "lasting-zambia",
   "metadata": {},
   "outputs": [],
   "source": [
    "# formas de impressão de dados\n",
    "print(\"Conteúdo da variável a: \", a)\n",
    "print(\"Conteúdo das variáveis a e b: %d %f\" %(a,b))\n",
    "print(\"Conteúdo das variáveis a e b: %d %2.2f\" %(a,b))\n",
    "print(f\"Conteúdo da variável a: {a}\")"
   ]
  },
  {
   "cell_type": "code",
   "execution_count": null,
   "id": "failing-yellow",
   "metadata": {},
   "outputs": [],
   "source": [
    "# palavras\n",
    "nome = 'Orlewilson'\n",
    "\n",
    "nomeAoContrario = nome[::-1]\n",
    "\n",
    "print(f'Meu nome é {nome} ao contrário é {nomeAoContrario}')"
   ]
  },
  {
   "cell_type": "markdown",
   "id": "scientific-attraction",
   "metadata": {},
   "source": [
    "### Exemplo 03 - função em Python"
   ]
  },
  {
   "cell_type": "code",
   "execution_count": null,
   "id": "victorian-column",
   "metadata": {},
   "outputs": [],
   "source": [
    "# função para mostrar conteúdo de um variável informada por parâmetro\n",
    "def mostrarConteudo(var=0):\n",
    "    print(f\"Conteúdo da variável: {var}\")\n",
    "\n",
    "# chamando a função\n",
    "a = 3 #número inteiro\n",
    "b = 3.3 #número decial\n",
    "c = 4 + 5j #número complexo\n",
    "d = \"Wilson\" #caracter\n",
    "\n",
    "\n",
    "mostrarConteudo(a)\n",
    "mostrarConteudo(b)\n",
    "mostrarConteudo(c)\n",
    "mostrarConteudo(d)\n",
    "mostrarConteudo()"
   ]
  }
 ],
 "metadata": {
  "kernelspec": {
   "display_name": "Python 3",
   "language": "python",
   "name": "python3"
  },
  "language_info": {
   "codemirror_mode": {
    "name": "ipython",
    "version": 3
   },
   "file_extension": ".py",
   "mimetype": "text/x-python",
   "name": "python",
   "nbconvert_exporter": "python",
   "pygments_lexer": "ipython3",
   "version": "3.9.1"
  }
 },
 "nbformat": 4,
 "nbformat_minor": 5
}
