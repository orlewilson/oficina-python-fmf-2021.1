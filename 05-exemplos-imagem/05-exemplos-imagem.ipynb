{
 "cells": [
  {
   "cell_type": "markdown",
   "id": "usual-force",
   "metadata": {},
   "source": [
    "### Python: Por Onde Começar e Quais Suas Aplicações?\n",
    "\n",
    "**Cursos de Capacitação - Faculdade Martha Falcão 2021.1** <br>\n",
    "**Facilitador**: Orlewilson Bentes Maia <br>\n",
    "**Data**: 18/02/2021 <br>\n",
    "https://orlewilson.github.io/\n"
   ]
  },
  {
   "cell_type": "markdown",
   "id": "noble-librarian",
   "metadata": {},
   "source": [
    "### Exemplo de reconhecimento de face com python\n",
    "**Fonte:**\n",
    "- https://realpython.com/face-recognition-with-python/"
   ]
  },
  {
   "cell_type": "code",
   "execution_count": null,
   "id": "common-mambo",
   "metadata": {},
   "outputs": [],
   "source": [
    "import cv2\n",
    "import sys\n",
    "\n",
    "# Get user supplied values\n",
    "imagePath = input(\"informe uma imagem\")\n",
    "cascPath = \"haarcascade_frontalface_default.xml\"\n",
    "\n",
    "# Create the haar cascade\n",
    "faceCascade = cv2.CascadeClassifier(cv2.data.haarcascades + cascPath)\n",
    "\n",
    "# Read the image\n",
    "image = cv2.imread(imagePath)\n",
    "gray = cv2.cvtColor(image, cv2.COLOR_BGR2GRAY)\n",
    "\n",
    "# Detect faces in the image\n",
    "faces = faceCascade.detectMultiScale(\n",
    "    gray,\n",
    "    scaleFactor=1.2,\n",
    "    minNeighbors=5,\n",
    "    minSize=(30, 30),\n",
    "    flags = cv2.CASCADE_SCALE_IMAGE\n",
    ")\n",
    "\n",
    "print(\"Found {0} faces!\".format(len(faces)))\n",
    "\n",
    "# Draw a rectangle around the faces\n",
    "for (x, y, w, h) in faces:\n",
    "    cv2.rectangle(image, (x, y), (x+w, y+h), (0, 255, 0), 2)\n",
    "\n",
    "cv2.imshow(\"Faces found\", image)\n",
    "cv2.waitKey(0)\n",
    "\n",
    "\n",
    "# execução do código\n",
    "# python ex-reconhecimento-face.py"
   ]
  }
 ],
 "metadata": {
  "kernelspec": {
   "display_name": "Python 3",
   "language": "python",
   "name": "python3"
  },
  "language_info": {
   "codemirror_mode": {
    "name": "ipython",
    "version": 3
   },
   "file_extension": ".py",
   "mimetype": "text/x-python",
   "name": "python",
   "nbconvert_exporter": "python",
   "pygments_lexer": "ipython3",
   "version": "3.9.1"
  }
 },
 "nbformat": 4,
 "nbformat_minor": 5
}
